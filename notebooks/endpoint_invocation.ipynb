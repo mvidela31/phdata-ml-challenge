{
 "cells": [
  {
   "cell_type": "markdown",
   "metadata": {},
   "source": [
    "# House Pricing Endpoint Invocation"
   ]
  },
  {
   "cell_type": "markdown",
   "metadata": {},
   "source": [
    "The following notebook presents an example of local host deployment of the house-pricing model based on Docker."
   ]
  },
  {
   "cell_type": "markdown",
   "metadata": {},
   "source": [
    "### 1) Build Docker Image"
   ]
  },
  {
   "cell_type": "code",
   "execution_count": null,
   "metadata": {
    "tags": []
   },
   "outputs": [],
   "source": [
    "!cd ./model_inference & docker build --tag house-pricing/model-inference:latest ."
   ]
  },
  {
   "cell_type": "code",
   "execution_count": 1,
   "metadata": {
    "tags": []
   },
   "outputs": [
    {
     "name": "stdout",
     "output_type": "stream",
     "text": [
      "REPOSITORY                      TAG       IMAGE ID       CREATED          SIZE\n",
      "house-pricing/model-inference   latest    3ac7818e2d49   9 minutes ago    880MB\n",
      "<none>                          <none>    4df9158af96f   18 minutes ago   880MB\n",
      "<none>                          <none>    7a9999e5e80a   23 minutes ago   880MB\n",
      "<none>                          <none>    0014a5862218   35 minutes ago   880MB\n",
      "<none>                          <none>    093ebc75980e   2 hours ago      880MB\n",
      "<none>                          <none>    95cd0e225cd9   3 hours ago      880MB\n"
     ]
    }
   ],
   "source": [
    "!docker images"
   ]
  },
  {
   "cell_type": "code",
   "execution_count": null,
   "metadata": {},
   "outputs": [],
   "source": [
    "!docker run -p 80:80 house-pricing/model-inference"
   ]
  },
  {
   "cell_type": "code",
   "execution_count": 2,
   "metadata": {
    "tags": []
   },
   "outputs": [
    {
     "name": "stdout",
     "output_type": "stream",
     "text": [
      "CONTAINER ID   IMAGE                           COMMAND                  CREATED          STATUS          PORTS                                       NAMES\n",
      "901380db618b   house-pricing/model-inference   \"run-server --host 0…\"   21 seconds ago   Up 20 seconds   0.0.0.0:8000->8000/tcp, :::8000->8000/tcp   silly_fermi\n"
     ]
    }
   ],
   "source": [
    "!docker ps"
   ]
  },
  {
   "cell_type": "markdown",
   "metadata": {},
   "source": [
    "### 2) Invoke Endpoints"
   ]
  },
  {
   "cell_type": "code",
   "execution_count": null,
   "metadata": {},
   "outputs": [],
   "source": [
    "!pip install requests"
   ]
  },
  {
   "cell_type": "markdown",
   "metadata": {},
   "source": [
    "#### 2.1) Full Model"
   ]
  },
  {
   "cell_type": "code",
   "execution_count": 1,
   "metadata": {
    "tags": []
   },
   "outputs": [],
   "source": [
    "from urllib.parse import quote\n",
    "\n",
    "import requests\n",
    "\n",
    "url_base = \"http://localhost:80\"\n",
    "model_url = \"https://drive.google.com/uc?export=download&id=1U_MiVcRJwRdj3ugjYX2itBJq_xxXHcbm\"\n",
    "\n",
    "instances = [\n",
    "    {\n",
    "        'bedrooms': 4,\n",
    "        'bathrooms': 1.0,\n",
    "        'sqft_living': 1680,\n",
    "        'sqft_lot': 5043,\n",
    "        'floors': 1.5,\n",
    "        'waterfront': 0,\n",
    "        'view': 0,\n",
    "        'condition': 4,\n",
    "        'grade': 6,\n",
    "        'sqft_above': 1680,\n",
    "        'sqft_basement': 0,\n",
    "        'yr_built': 1911,\n",
    "        'yr_renovated': 0,\n",
    "        'zipcode': 98118,\n",
    "        'lat': 47.5354,\n",
    "        'long': -122.273,\n",
    "        'sqft_living15': 1560,\n",
    "        'sqft_lot15': 5765,\n",
    "    },\n",
    "    {\n",
    "        'bedrooms': 3,\n",
    "        'bathrooms': 2.5,\n",
    "        'sqft_living': 2220,\n",
    "        'sqft_lot': 6380,\n",
    "        'floors': 1.5,\n",
    "        'waterfront': 0,\n",
    "        'view': 0,\n",
    "        'condition': 4,\n",
    "        'grade': 8,\n",
    "        'sqft_above': 1660,\n",
    "        'sqft_basement': 560,\n",
    "        'yr_built': 1931,\n",
    "        'yr_renovated': 0,\n",
    "        'zipcode': 98115,\n",
    "        'lat': 47.6974,\n",
    "        'long': -122.313,\n",
    "        'sqft_living15': 950,\n",
    "        'sqft_lot15': 6380,\n",
    "    }\n",
    "]"
   ]
  },
  {
   "cell_type": "code",
   "execution_count": 2,
   "metadata": {
    "tags": []
   },
   "outputs": [
    {
     "name": "stdout",
     "output_type": "stream",
     "text": [
      "{'status': 'ok'}\n"
     ]
    }
   ],
   "source": [
    "response = requests.get(url=f\"{url_base}/ping\")\n",
    "print(response.json())"
   ]
  },
  {
   "cell_type": "code",
   "execution_count": 3,
   "metadata": {
    "tags": []
   },
   "outputs": [
    {
     "name": "stdout",
     "output_type": "stream",
     "text": [
      "{'status': 'Model downloaded successfully'}\n"
     ]
    }
   ],
   "source": [
    "response = requests.put(\n",
    "    url=f\"{url_base}/download_model\",\n",
    "    json={\n",
    "        \"model_url\": quote(quote(model_url, safe=''), safe=''),\n",
    "        \"model_package\": \"full\",\n",
    "    },\n",
    ")\n",
    "print(response.json())"
   ]
  },
  {
   "cell_type": "code",
   "execution_count": 4,
   "metadata": {
    "tags": []
   },
   "outputs": [
    {
     "name": "stdout",
     "output_type": "stream",
     "text": [
      "{'predictions': [{'prediction': 352341.4147573659}, {'prediction': 643987.7474130072}], 'model_version': '1', 'model_package': 'full'}\n"
     ]
    }
   ],
   "source": [
    "response = requests.post(\n",
    "    url=f\"{url_base}/invocations_full\",\n",
    "    json={\"instances\": instances},\n",
    ")\n",
    "print(response.json())"
   ]
  },
  {
   "cell_type": "code",
   "execution_count": 5,
   "metadata": {
    "tags": []
   },
   "outputs": [
    {
     "name": "stdout",
     "output_type": "stream",
     "text": [
      "{'model_versions': [1]}\n"
     ]
    }
   ],
   "source": [
    "response = requests.get(url=f\"{url_base}/versions/full\")\n",
    "print(response.json())"
   ]
  },
  {
   "cell_type": "code",
   "execution_count": 6,
   "metadata": {
    "tags": []
   },
   "outputs": [
    {
     "name": "stdout",
     "output_type": "stream",
     "text": [
      "{'status': 'Model downloaded successfully'}\n"
     ]
    }
   ],
   "source": [
    "response = requests.put(\n",
    "    url=f\"{url_base}/download_model\",\n",
    "    json={\n",
    "        \"model_url\": quote(quote(model_url, safe=''), safe=''),\n",
    "        \"model_package\": \"full\",\n",
    "    },\n",
    ")\n",
    "print(response.json())"
   ]
  },
  {
   "cell_type": "code",
   "execution_count": 7,
   "metadata": {
    "tags": []
   },
   "outputs": [
    {
     "name": "stdout",
     "output_type": "stream",
     "text": [
      "{'model_versions': [2, 1]}\n"
     ]
    }
   ],
   "source": [
    "response = requests.get(url=f\"{url_base}/versions/full\")\n",
    "print(response.json())"
   ]
  },
  {
   "cell_type": "code",
   "execution_count": 8,
   "metadata": {
    "tags": []
   },
   "outputs": [
    {
     "name": "stdout",
     "output_type": "stream",
     "text": [
      "{'predictions': [{'prediction': 352341.4147573659}, {'prediction': 643987.7474130072}], 'model_version': '2', 'model_package': 'full'}\n"
     ]
    }
   ],
   "source": [
    "response = requests.post(\n",
    "    url=f\"{url_base}/invocations_full\",\n",
    "    json={\"instances\": instances},\n",
    ")\n",
    "print(response.json())"
   ]
  },
  {
   "cell_type": "code",
   "execution_count": 9,
   "metadata": {
    "tags": []
   },
   "outputs": [
    {
     "name": "stdout",
     "output_type": "stream",
     "text": [
      "{'status': 'Model updated successfully'}\n"
     ]
    }
   ],
   "source": [
    "response = requests.put(\n",
    "    url=f\"{url_base}/update_model\",\n",
    "    json={\n",
    "        \"model_version\": \"1\",\n",
    "        \"model_package\": \"full\",\n",
    "    },\n",
    ")\n",
    "print(response.json())"
   ]
  },
  {
   "cell_type": "code",
   "execution_count": 10,
   "metadata": {
    "tags": []
   },
   "outputs": [
    {
     "name": "stdout",
     "output_type": "stream",
     "text": [
      "{'predictions': [{'prediction': 352341.4147573659}, {'prediction': 643987.7474130072}], 'model_version': '1', 'model_package': 'full'}\n"
     ]
    }
   ],
   "source": [
    "response = requests.post(\n",
    "    url=f\"{url_base}/invocations_full\",\n",
    "    json={\"instances\": instances},\n",
    ")\n",
    "print(response.json())"
   ]
  },
  {
   "cell_type": "code",
   "execution_count": 11,
   "metadata": {
    "tags": []
   },
   "outputs": [
    {
     "name": "stdout",
     "output_type": "stream",
     "text": [
      "{'status': 'Model downloaded successfully'}\n"
     ]
    }
   ],
   "source": [
    "response = requests.put(\n",
    "    url=f\"{url_base}/download_model\",\n",
    "    json={\n",
    "        \"model_url\": quote(quote(model_url, safe=''), safe=''),\n",
    "        \"model_package\": \"full\",\n",
    "    },\n",
    ")\n",
    "print(response.json())"
   ]
  },
  {
   "cell_type": "code",
   "execution_count": 12,
   "metadata": {
    "tags": []
   },
   "outputs": [
    {
     "name": "stdout",
     "output_type": "stream",
     "text": [
      "{'model_versions': [2, 1, 3]}\n"
     ]
    }
   ],
   "source": [
    "response = requests.get(url=f\"{url_base}/versions/full\")\n",
    "print(response.json())"
   ]
  },
  {
   "cell_type": "code",
   "execution_count": 13,
   "metadata": {
    "tags": []
   },
   "outputs": [
    {
     "name": "stdout",
     "output_type": "stream",
     "text": [
      "{'status': 'Model deleted successfully'}\n"
     ]
    }
   ],
   "source": [
    "response = requests.delete(\n",
    "    url=f\"{url_base}/delete_model\",\n",
    "    json={\n",
    "        \"model_version\": \"2\",\n",
    "        \"model_package\": \"full\",\n",
    "    },\n",
    ")\n",
    "print(response.json())"
   ]
  },
  {
   "cell_type": "code",
   "execution_count": 14,
   "metadata": {
    "tags": []
   },
   "outputs": [
    {
     "name": "stdout",
     "output_type": "stream",
     "text": [
      "{'model_versions': [1, 3]}\n"
     ]
    }
   ],
   "source": [
    "response = requests.get(url=f\"{url_base}/versions/full\")\n",
    "print(response.json())"
   ]
  },
  {
   "cell_type": "code",
   "execution_count": 15,
   "metadata": {},
   "outputs": [
    {
     "name": "stdout",
     "output_type": "stream",
     "text": [
      "{'detail': 'No models available.'}\n"
     ]
    }
   ],
   "source": [
    "response = requests.get(url=f\"{url_base}/versions/partial\")\n",
    "print(response.json())"
   ]
  },
  {
   "cell_type": "markdown",
   "metadata": {},
   "source": [
    "#### 2.2) Partial Model"
   ]
  },
  {
   "cell_type": "code",
   "execution_count": 16,
   "metadata": {},
   "outputs": [],
   "source": [
    "partial_model_url = \"https://drive.google.com/uc?export=download&id=172vtcRR2Ti_7AX7X4V2VGd-F_j9pvRv0\"\n",
    "instances_partial = [\n",
    "    {\n",
    "        'bedrooms': 4,\n",
    "        'bathrooms': 1.0,\n",
    "        'sqft_living': 1680,\n",
    "        'sqft_lot': 5043,\n",
    "        'floors': 1.5,\n",
    "        'sqft_above': 1680,\n",
    "        'sqft_basement': 0,\n",
    "        'zipcode': 98118,\n",
    "    },\n",
    "    {\n",
    "        'bedrooms': 3,\n",
    "        'bathrooms': 2.5,\n",
    "        'sqft_living': 2220,\n",
    "        'sqft_lot': 6380,\n",
    "        'floors': 1.5,\n",
    "        'sqft_above': 1660,\n",
    "        'sqft_basement': 560,\n",
    "        'zipcode': 98115,\n",
    "    }\n",
    "]"
   ]
  },
  {
   "cell_type": "code",
   "execution_count": 17,
   "metadata": {},
   "outputs": [
    {
     "name": "stdout",
     "output_type": "stream",
     "text": [
      "{'status': 'Model downloaded successfully'}\n"
     ]
    }
   ],
   "source": [
    "response = requests.put(\n",
    "    url=f\"{url_base}/download_model\",\n",
    "    json={\n",
    "        \"model_url\": quote(quote(partial_model_url, safe=''), safe=''),\n",
    "        \"model_package\": \"partial\",\n",
    "    },\n",
    ")\n",
    "print(response.json())"
   ]
  },
  {
   "cell_type": "code",
   "execution_count": 18,
   "metadata": {},
   "outputs": [
    {
     "name": "stdout",
     "output_type": "stream",
     "text": [
      "{'model_versions': [1]}\n"
     ]
    }
   ],
   "source": [
    "response = requests.get(url=f\"{url_base}/versions/partial\")\n",
    "print(response.json())"
   ]
  },
  {
   "cell_type": "code",
   "execution_count": 19,
   "metadata": {},
   "outputs": [
    {
     "name": "stdout",
     "output_type": "stream",
     "text": [
      "{'predictions': [{'prediction': 429246.0790509483}, {'prediction': 679159.3977073567}], 'model_version': '1', 'model_package': 'partial'}\n"
     ]
    }
   ],
   "source": [
    "response = requests.post(\n",
    "    url=f\"{url_base}/invocations_partial\",\n",
    "    json={\"instances\": instances_partial},\n",
    ")\n",
    "print(response.json())"
   ]
  },
  {
   "cell_type": "code",
   "execution_count": 20,
   "metadata": {},
   "outputs": [
    {
     "name": "stdout",
     "output_type": "stream",
     "text": [
      "{'model_versions': [1, 3]}\n"
     ]
    }
   ],
   "source": [
    "response = requests.get(url=f\"{url_base}/versions/full\")\n",
    "print(response.json())"
   ]
  }
 ],
 "metadata": {
  "kernelspec": {
   "display_name": "base",
   "language": "python",
   "name": "python3"
  },
  "language_info": {
   "codemirror_mode": {
    "name": "ipython",
    "version": 3
   },
   "file_extension": ".py",
   "mimetype": "text/x-python",
   "name": "python",
   "nbconvert_exporter": "python",
   "pygments_lexer": "ipython3",
   "version": "3.11.7"
  }
 },
 "nbformat": 4,
 "nbformat_minor": 4
}
